{
 "cells": [
  {
   "cell_type": "code",
   "execution_count": 31,
   "metadata": {},
   "outputs": [
    {
     "name": "stdout",
     "output_type": "stream",
     "text": [
      "/home/jovyan/work\n"
     ]
    }
   ],
   "source": [
    "#Imports the CDMSDataCatalog & os programs!\n",
    "import os\n",
    "from CDMSDataCatalog import CDMSDataCatalog     #Bulk of what we're doing...\n",
    "\n",
    "#Gets the current directory & Stores it\n",
    "currentDir = os.getcwd()\n",
    "\n",
    "#Prints the directory!\n",
    "print(currentDir)"
   ]
  },
  {
   "cell_type": "code",
   "execution_count": 35,
   "metadata": {},
   "outputs": [
    {
     "data": {
      "text/plain": [
       "[<CDMSDataset Class, Name: testG124_Filter_23190927_2139.root>,\n",
       " <CDMSDataset Class, Name: testG124_Filter_23190928_1623.root>,\n",
       " <CDMSDataset Class, Name: testG124_Filter_23191001_2142.root>]"
      ]
     },
     "execution_count": 35,
     "metadata": {},
     "output_type": "execute_result"
    }
   ],
   "source": [
    "#Sets the object for the data catalog\n",
    "dc = CDMSDataCatalog()\n",
    "\n",
    "#Change the end of this line to check which one we're planning on downloading\n",
    "downloadThis = dc.search('/CDMS/CUTE/R9/Processed/Tests/testG124/Noise')\n",
    "\n",
    "\n",
    "#Attempt to download! ahhh!\n",
    "dc.fetch(downloadThis, dest = currentDir + '/DataFromCDMS')"
   ]
  },
  {
   "cell_type": "code",
   "execution_count": null,
   "metadata": {},
   "outputs": [],
   "source": []
  }
 ],
 "metadata": {
  "kernelspec": {
   "display_name": "CDMS V02-04-01",
   "language": "python",
   "name": "cdms_v02-04-01"
  },
  "language_info": {
   "codemirror_mode": {
    "name": "ipython",
    "version": 3
   },
   "file_extension": ".py",
   "mimetype": "text/x-python",
   "name": "python",
   "nbconvert_exporter": "python",
   "pygments_lexer": "ipython3",
   "version": "3.6.5"
  }
 },
 "nbformat": 4,
 "nbformat_minor": 4
}

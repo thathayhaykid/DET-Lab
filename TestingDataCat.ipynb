{
 "cells": [
  {
   "cell_type": "code",
   "execution_count": 12,
   "metadata": {},
   "outputs": [
    {
     "name": "stdout",
     "output_type": "stream",
     "text": [
      "Default download path:  /cvmfs/data\n",
      "Since default wont work, we'll be saving to this directory /home/jovyan/DataFromCDMS\n"
     ]
    },
    {
     "name": "stderr",
     "output_type": "stream",
     "text": [
      "Total progress:   0%|          | 0.00/62.1M [00:00<?, ?B/s]"
     ]
    },
    {
     "name": "stdout",
     "output_type": "stream",
     "text": [
      "Need to download 62.1MiB ( 3 files ) from catalog\n",
      "Download finished\n"
     ]
    },
    {
     "name": "stderr",
     "output_type": "stream",
     "text": [
      "\n",
      "DataCat: Failed to fetch 3/3 datasets!\n",
      "\ttestG124_Filter_23190927_2139.root: Exception during download: [Errno 30] Read-only file system: '/cvmfs/data/CDMS'\n",
      "\ttestG124_Filter_23190928_1623.root: Exception during download: [Errno 30] Read-only file system: '/cvmfs/data/CDMS'\n",
      "\ttestG124_Filter_23191001_2142.root: Exception during download: [Errno 30] Read-only file system: '/cvmfs/data/CDMS'\n"
     ]
    },
    {
     "data": {
      "text/plain": [
       "[<CDMSDataset Class, Name: testG124_Filter_23190927_2139.root>,\n",
       " <CDMSDataset Class, Name: testG124_Filter_23190928_1623.root>,\n",
       " <CDMSDataset Class, Name: testG124_Filter_23191001_2142.root>]"
      ]
     },
     "execution_count": 12,
     "metadata": {},
     "output_type": "execute_result"
    }
   ],
   "source": [
    "#Imports the CDMSDataCatalog & os programs!\n",
    "import os\n",
    "from CDMSDataCatalog import CDMSDataCatalog     #Bulk of what we're doing...\n",
    "from CDMSDataCatalog import fetch               #Just to check directories and whatnot\n",
    "\n",
    "#Gets the default directory that's supposed to be written to\n",
    "oldDataDir = fetch.get_default_fetchdir()\n",
    "print(\"Default download path: \", oldDataDir)\n",
    "\n",
    "#Gets the current directory & Stores it\n",
    "currentDir = os.getcwd()\n",
    "\n",
    "#Sets up the personal place where to save the data!\n",
    "dataDir = currentDir + '/DataFromCDMS'\n",
    "\n",
    "#Prints the directory!\n",
    "print(\"Since default wont work, we'll be saving to this directory\", dataDir)\n",
    "\n",
    "#Sets the object for the data catalog\n",
    "dc = CDMSDataCatalog()\n",
    "\n",
    "#Change the end of this line to check which one we're planning on downloading\n",
    "downloadThis = dc.search('/CDMS/CUTE/R9/Processed/Tests/testG124/Noise')\n",
    "\n",
    "\n",
    "#Attempt to download! ahhh! (This will save it to the current)\n",
    "#dc.fetch(downloadThis, dest = dataDir)\n",
    "\n",
    "#This is an attempt to download to the defult directory, which is stated in the previous cell's output\n",
    "dc.fetch(downloadThis)"
   ]
  },
  {
   "cell_type": "code",
   "execution_count": null,
   "metadata": {},
   "outputs": [],
   "source": []
  },
  {
   "cell_type": "code",
   "execution_count": null,
   "metadata": {},
   "outputs": [],
   "source": []
  }
 ],
 "metadata": {
  "kernelspec": {
   "display_name": "CDMS V02-04-01",
   "language": "python",
   "name": "cdms_v02-04-01"
  },
  "language_info": {
   "codemirror_mode": {
    "name": "ipython",
    "version": 3
   },
   "file_extension": ".py",
   "mimetype": "text/x-python",
   "name": "python",
   "nbconvert_exporter": "python",
   "pygments_lexer": "ipython3",
   "version": "3.6.5"
  }
 },
 "nbformat": 4,
 "nbformat_minor": 4
}
